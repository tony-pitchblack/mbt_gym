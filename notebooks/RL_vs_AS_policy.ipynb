{
 "cells": [
  {
   "cell_type": "markdown",
   "id": "9c72a25b",
   "metadata": {},
   "source": [
    "# Avellaneda-Stoikov agent vs RL agent"
   ]
  },
  {
   "cell_type": "markdown",
   "id": "2b918608",
   "metadata": {},
   "source": [
    "### Import external modules"
   ]
  },
  {
   "cell_type": "code",
   "execution_count": 49,
   "id": "56ffdffb",
   "metadata": {},
   "outputs": [],
   "source": [
    "import gym\n",
    "import matplotlib.pyplot as plt\n",
    "import numpy as np\n",
    "import os\n",
    "\n",
    "from stable_baselines3 import PPO\n",
    "from stable_baselines3.common.callbacks import EvalCallback\n",
    "from stable_baselines3.common.env_util import make_vec_env\n",
    "from stable_baselines3.common.vec_env import VecMonitor"
   ]
  },
  {
   "cell_type": "markdown",
   "id": "16d0a2c9",
   "metadata": {},
   "source": [
    "### Add mbt-gym to path"
   ]
  },
  {
   "cell_type": "code",
   "execution_count": 50,
   "id": "387934ba",
   "metadata": {},
   "outputs": [],
   "source": [
    "import sys\n",
    "sys.path.append(\"../\")"
   ]
  },
  {
   "cell_type": "code",
   "execution_count": null,
   "id": "5cb89dbb",
   "metadata": {},
   "outputs": [],
   "source": [
    "from mbt_gym.agents.BaselineAgents import CarteaJaimungalMmAgent\n",
    "from mbt_gym.gym.helpers.generate_trajectory import generate_trajectory\n",
    "from mbt_gym.gym.helpers.plotting import *\n",
    "from mbt_gym.gym.StableBaselinesTradingEnvironment import StableBaselinesTradingEnvironment\n",
    "from mbt_gym.gym.TradingEnvironment import TradingEnvironment\n",
    "from mbt_gym.gym.wrappers import *\n",
    "from mbt_gym.rewards.RewardFunctions import PnL, RunningInventoryPenalty\n",
    "from mbt_gym.stochastic_processes.midprice_models import BrownianMotionMidpriceModel\n",
    "from mbt_gym.stochastic_processes.arrival_models import PoissonArrivalModel\n",
    "from mbt_gym.stochastic_processes.fill_probability_models import ExponentialFillFunction\n",
    "from mbt_gym.gym.ModelDynamics import LimitOrderModelDynamics"
   ]
  },
  {
   "cell_type": "markdown",
   "id": "c9dcc3d3",
   "metadata": {},
   "source": [
    "### Initialize environment"
   ]
  },
  {
   "cell_type": "code",
   "execution_count": 52,
   "id": "b5bedc70",
   "metadata": {},
   "outputs": [],
   "source": [
    "from mbt_gym.gym.ModelDynamics import LimitOrderModelDynamics\n",
    "seed = 50"
   ]
  },
  {
   "cell_type": "code",
   "execution_count": 53,
   "id": "3c591572",
   "metadata": {},
   "outputs": [],
   "source": [
    "initial_price = 100\n",
    "terminal_time = 1.0\n",
    "sigma = 2.0\n",
    "n_steps = 200\n",
    "initial_inventory = 0\n",
    "arrival_rate = 140\n",
    "fill_exponent = 1.5\n",
    "\n",
    "# Reward function parameters\n",
    "phi = 0.5\n",
    "alpha = 0.001"
   ]
  },
  {
   "cell_type": "code",
   "execution_count": 54,
   "id": "e279adec",
   "metadata": {},
   "outputs": [],
   "source": [
    "def get_as_env(num_trajectories:int = 1):\n",
    "    midprice_model = BrownianMotionMidpriceModel(initial_price = initial_price, \n",
    "                                                 volatility=sigma, step_size=1/n_steps,\n",
    "                                                 terminal_time = terminal_time,\n",
    "                                                 num_trajectories=num_trajectories)\n",
    "    arrival_model = PoissonArrivalModel(intensity=np.array([arrival_rate, arrival_rate]), \n",
    "                                        step_size=1/n_steps, \n",
    "                                        num_trajectories=num_trajectories)\n",
    "    fill_probability_model = ExponentialFillFunction(fill_exponent=fill_exponent, \n",
    "                                                     step_size=1/n_steps,\n",
    "                                                     num_trajectories=num_trajectories)\n",
    "    LOtrader = LimitOrderModelDynamics(midprice_model = midprice_model, arrival_model = arrival_model, \n",
    "                                fill_probability_model = fill_probability_model,\n",
    "                                num_trajectories = num_trajectories)\n",
    "\n",
    "    reward_function = RunningInventoryPenalty(\n",
    "        per_step_inventory_aversion = phi,\n",
    "        terminal_inventory_aversion = alpha\n",
    "    )\n",
    "\n",
    "    env_params = dict(terminal_time=terminal_time, \n",
    "                      n_steps=n_steps,\n",
    "                      seed = seed,\n",
    "                      initial_inventory = initial_inventory,\n",
    "                      model_dynamics = LOtrader,\n",
    "                      max_inventory=n_steps,\n",
    "                      normalise_action_space = False,\n",
    "                      normalise_observation_space = False,\n",
    "                      reward_function=reward_function,\n",
    "                      num_trajectories=num_trajectories)\n",
    "    return TradingEnvironment(**env_params)"
   ]
  },
  {
   "cell_type": "code",
   "execution_count": 55,
   "id": "0d29022e",
   "metadata": {},
   "outputs": [],
   "source": [
    "num_trajectories = 1000\n",
    "env = ReduceStateSizeWrapper(get_as_env(num_trajectories))\n",
    "sb_env = StableBaselinesTradingEnvironment(trading_env=env)"
   ]
  },
  {
   "cell_type": "code",
   "execution_count": 56,
   "id": "3f837dc9",
   "metadata": {},
   "outputs": [],
   "source": [
    "# Monitor sb_env\n",
    "sb_env = VecMonitor(sb_env)\n",
    "# Add directory for tensorboard logging and best model\n",
    "tensorboard_logdir = \"./tensorboard/PPO-learning-AS/\"\n",
    "best_model_path = \"./SB_models/PPO-best-AS.zip\""
   ]
  },
  {
   "cell_type": "markdown",
   "id": "3106df91",
   "metadata": {},
   "source": [
    "### Define PPO policy"
   ]
  },
  {
   "cell_type": "code",
   "execution_count": 57,
   "id": "b5d0e1c5",
   "metadata": {},
   "outputs": [
    {
     "name": "stdout",
     "output_type": "stream",
     "text": [
      "Using cpu device\n"
     ]
    }
   ],
   "source": [
    "policy_kwargs = dict(net_arch=[dict(pi=[256, 256], vf=[256, 256])])\n",
    "PPO_params = {\"policy\":'MlpPolicy', \"env\": sb_env, \"verbose\":1, \n",
    "              \"policy_kwargs\":policy_kwargs, \n",
    "              \"tensorboard_log\":tensorboard_logdir,\n",
    "              \"n_epochs\":3,\n",
    "              \"batch_size\": int(n_steps * num_trajectories / 10), \n",
    "              \"n_steps\": int(n_steps)}\n",
    "callback_params = dict(eval_env=sb_env, n_eval_episodes = 2048, #200 before  (n_eval_episodes)\n",
    "                       best_model_save_path = best_model_path, \n",
    "                       deterministic=True)\n",
    "\n",
    "callback = EvalCallback(**callback_params)\n",
    "model = PPO(**PPO_params, device=\"cpu\")"
   ]
  },
  {
   "cell_type": "code",
   "execution_count": 58,
   "id": "3893346a",
   "metadata": {},
   "outputs": [
    {
     "name": "stdout",
     "output_type": "stream",
     "text": [
      "Loading best model\n"
     ]
    }
   ],
   "source": [
    "# Train model or load pretrained\n",
    "\n",
    "OVERWRITE = False\n",
    "\n",
    "if OVERWRITE or not os.path.isfile(best_model_path):\n",
    "    print(\"Training from scratch\")\n",
    "    model.learn(\n",
    "        # total_timesteps = 10_000_000\n",
    "        total_timesteps = 20_000_000\n",
    "    )  # Increase number of training timesteps according to computing resources\n",
    "    model.save(best_model_path)\n",
    "else:\n",
    "    print(\"Loading best model\")\n",
    "    model = PPO.load(best_model_path)\n",
    "    model.env = sb_env"
   ]
  },
  {
   "cell_type": "markdown",
   "id": "6d74b6cd",
   "metadata": {},
   "source": [
    "## Comparing the learnt policy to the optimal policy"
   ]
  },
  {
   "cell_type": "code",
   "execution_count": 59,
   "id": "bcc4d5d9",
   "metadata": {},
   "outputs": [],
   "source": [
    "from mbt_gym.agents.SbAgent import SbAgent"
   ]
  },
  {
   "cell_type": "code",
   "execution_count": 60,
   "id": "f80b78c0",
   "metadata": {},
   "outputs": [],
   "source": [
    "ppo_agent = SbAgent(model)"
   ]
  },
  {
   "cell_type": "code",
   "execution_count": 61,
   "id": "3dcb28e9",
   "metadata": {},
   "outputs": [],
   "source": [
    "inventories = np.arange(-3,4,1)\n",
    "bid_actions = []\n",
    "ask_actions = []\n",
    "for inventory in inventories:\n",
    "    bid_action, ask_action = ppo_agent.get_action(np.array([[inventory,0.5]])).reshape(-1)\n",
    "    bid_actions.append(bid_action)\n",
    "    ask_actions.append(ask_action)    "
   ]
  },
  {
   "cell_type": "code",
   "execution_count": 67,
   "id": "fb6bb5cc",
   "metadata": {},
   "outputs": [],
   "source": [
    "from mbt_gym.agents.BaselineAgents import *\n",
    "\n",
    "as_env = get_as_env()\n",
    "as_agent = AvellanedaStoikovAgent(risk_aversion=0.1, env=as_env)"
   ]
  },
  {
   "cell_type": "code",
   "execution_count": null,
   "id": "a6a344c6",
   "metadata": {},
   "outputs": [],
   "source": [
    "# Get the Avellaneda-Stoikov agent action\n",
    "\n",
    "as_bid_actions = []\n",
    "as_ask_actions = []\n",
    "for inventory in inventories:\n",
    "    bid_action, ask_action = as_agent.get_action(np.array([[0,inventory,0.5]])).reshape(-1)\n",
    "    as_bid_actions.append(bid_action)\n",
    "    as_ask_actions.append(ask_action)"
   ]
  },
  {
   "cell_type": "code",
   "execution_count": 64,
   "id": "615c8e8f",
   "metadata": {},
   "outputs": [
    {
     "data": {
      "text/plain": [
       "<matplotlib.legend.Legend at 0x792e11152200>"
      ]
     },
     "execution_count": 64,
     "metadata": {},
     "output_type": "execute_result"
    },
    {
     "data": {
      "image/png": "[encoded data removed]",
      "text/plain": [
       "<Figure size 640x480 with 1 Axes>"
      ]
     },
     "metadata": {},
     "output_type": "display_data"
    }
   ],
   "source": [
    "plt.plot(inventories, bid_actions, label = \"RL agent bid\", color = \"k\")\n",
    "plt.plot(inventories, ask_actions, label = \"RL agent ask\", color = \"r\")\n",
    "plt.plot(inventories, as_bid_actions, label = \"AS agent bid\", color = \"k\", linestyle = \"--\")\n",
    "plt.plot(inventories, as_ask_actions, label = \"AS agent ask\", color = \"r\", linestyle = \"--\")\n",
    "plt.legend()"
   ]
  }
 ],
 "metadata": {
  "hide_input": false,
  "kernelspec": {
   "display_name": "py310",
   "language": "python",
   "name": "python3"
  },
  "language_info": {
   "codemirror_mode": {
    "name": "ipython",
    "version": 3
   },
   "file_extension": ".py",
   "mimetype": "text/x-python",
   "name": "python",
   "nbconvert_exporter": "python",
   "pygments_lexer": "ipython3",
   "version": "3.10.16"
  },
  "toc": {
   "base_numbering": 1,
   "nav_menu": {},
   "number_sections": true,
   "sideBar": true,
   "skip_h1_title": false,
   "title_cell": "Table of Contents",
   "title_sidebar": "Contents",
   "toc_cell": false,
   "toc_position": {},
   "toc_section_display": true,
   "toc_window_display": false
  }
 },
 "nbformat": 4,
 "nbformat_minor": 5
}
